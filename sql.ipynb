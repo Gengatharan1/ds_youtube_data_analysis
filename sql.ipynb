{
 "cells": [
  {
   "cell_type": "code",
   "execution_count": 3,
   "metadata": {},
   "outputs": [],
   "source": [
    "import psycopg2\n"
   ]
  },
  {
   "cell_type": "code",
   "execution_count": 4,
   "metadata": {},
   "outputs": [],
   "source": [
    "mydb = psycopg2.connect(\n",
    "    host=\"localhost\",\n",
    "    user=\"postgres\",\n",
    "    password=\"Genga@6365\",\n",
    "    database=\"youtube_data\",\n",
    "    port=\"5432\"\n",
    ")\n",
    "mydb.autocommit = True\n",
    "cursor = mydb.cursor()"
   ]
  },
  {
   "cell_type": "code",
   "execution_count": 7,
   "metadata": {},
   "outputs": [],
   "source": [
    "\n",
    "insert_query = '''INSERT INTO channels (channel_name, \n",
    "                                    channel_id,\n",
    "                                    subscribers, \n",
    "                                    views, \n",
    "                                    total_videos, \n",
    "                                    channel_description, \n",
    "                                    playlist_id)\n",
    "            VALUES (\n",
    "    'asdfgsdfg',\n",
    "    'fdghdfgh',\n",
    "    651,6514,651,'dszfgdfg','dzsfgdzfg'\n",
    ")'''\n",
    "\n",
    "cursor.execute(insert_query)"
   ]
  }
 ],
 "metadata": {
  "kernelspec": {
   "display_name": "Python 3",
   "language": "python",
   "name": "python3"
  },
  "language_info": {
   "codemirror_mode": {
    "name": "ipython",
    "version": 3
   },
   "file_extension": ".py",
   "mimetype": "text/x-python",
   "name": "python",
   "nbconvert_exporter": "python",
   "pygments_lexer": "ipython3",
   "version": "3.12.4"
  }
 },
 "nbformat": 4,
 "nbformat_minor": 2
}
